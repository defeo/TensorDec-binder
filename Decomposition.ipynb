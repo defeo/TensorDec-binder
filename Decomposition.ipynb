{
 "cells": [
  {
   "cell_type": "code",
   "execution_count": 15,
   "metadata": {},
   "outputs": [
    {
     "data": {
      "text/plain": [
       "3-element Array{DynamicPolynomials.PolyVar{true},1}:\n",
       " x1\n",
       " x2\n",
       " x3"
      ]
     },
     "execution_count": 15,
     "metadata": {},
     "output_type": "execute_result"
    }
   ],
   "source": [
    "using TensorDec\n",
    "using LinearAlgebra\n",
    "X = @ring x1 x2 x3"
   ]
  },
  {
   "cell_type": "code",
   "execution_count": 16,
   "metadata": {},
   "outputs": [
    {
     "data": {
      "text/plain": [
       "6.0dx1^2dx3 + 15.0dx2*dx3^2 + 4.0dx1 + 15.0dx2*dx3 + 20.0dx1*dx2*dx3 + 129.0dx2^3 + 43.0dx2^2dx3 + 30.0dx1^2dx2 + 72.0dx1*dx2^2 + 20.0dx1*dx2 + 6.0dx3 + 6.0dx3^3 + 4.0dx1*dx3^2 + 43.0dx2^2 + 6.0dx1^2 + 4.0dx1*dx3 + 6.0dx3^2 + 15.0dx2 - 26.0dx1^3 + 6.0"
      ]
     },
     "execution_count": 16,
     "metadata": {},
     "output_type": "execute_result"
    }
   ],
   "source": [
    "sigma = dual(6.0 + 4.0*x1 + 15.0*x2 + 6.0*x3 + 6.0*x1^2 + 20.0*x1*x2 + 4.0*x1*x3 + 43.0*x2^2 + 15.0*x2*x3 + 6.0*x3^2 - 26.0*x1^3 + 30.0*x1^2*x2 + 6.0*x1^2*x3 + 72.0*x1*x2^2 + 20.0*x1*x2*x3 + 4.0*x1*x3^2 + 129.0*x2^3 + 43.0*x2^2*x3 + 15.0*x2*x3^2 + 6.0*x3^3)"
   ]
  },
  {
   "cell_type": "code",
   "execution_count": 17,
   "metadata": {},
   "outputs": [
    {
     "data": {
      "text/plain": [
       "10-element Array{DynamicPolynomials.Monomial{true},1}:\n",
       " 1   \n",
       " x1  \n",
       " x2  \n",
       " x3  \n",
       " x1² \n",
       " x1x2\n",
       " x1x3\n",
       " x2² \n",
       " x2x3\n",
       " x3² "
      ]
     },
     "execution_count": 17,
     "metadata": {},
     "output_type": "execute_result"
    }
   ],
   "source": [
    "L1 = monoms(X,1)\n",
    "L2 = monoms(X,2)"
   ]
  },
  {
   "cell_type": "code",
   "execution_count": 18,
   "metadata": {},
   "outputs": [
    {
     "data": {
      "text/plain": [
       "4×10 Array{Float64,2}:\n",
       "  6.0   4.0  15.0   6.0    6.0  20.0   4.0   43.0  15.0   6.0\n",
       "  4.0   6.0  20.0   4.0  -26.0  30.0   6.0   72.0  20.0   4.0\n",
       " 15.0  20.0  43.0  15.0   30.0  72.0  20.0  129.0  43.0  15.0\n",
       "  6.0   4.0  15.0   6.0    6.0  20.0   4.0   43.0  15.0   6.0"
      ]
     },
     "execution_count": 18,
     "metadata": {},
     "output_type": "execute_result"
    }
   ],
   "source": [
    "H = hankel(sigma,L1,L2)"
   ]
  },
  {
   "cell_type": "code",
   "execution_count": 19,
   "metadata": {},
   "outputs": [
    {
     "data": {
      "text/plain": [
       "3"
      ]
     },
     "execution_count": 19,
     "metadata": {},
     "output_type": "execute_result"
    }
   ],
   "source": [
    "rank(H)"
   ]
  },
  {
   "cell_type": "code",
   "execution_count": 20,
   "metadata": {},
   "outputs": [
    {
     "data": {
      "text/plain": [
       "3-element Array{DynamicPolynomials.Monomial{true},1}:\n",
       " 1 \n",
       " x1\n",
       " x2"
      ]
     },
     "execution_count": 20,
     "metadata": {},
     "output_type": "execute_result"
    }
   ],
   "source": [
    "B0 = L1[1:3]"
   ]
  },
  {
   "cell_type": "code",
   "execution_count": 21,
   "metadata": {},
   "outputs": [
    {
     "data": {
      "text/plain": [
       "3×3 Array{Float64,2}:\n",
       "  6.0   4.0  15.0\n",
       "  4.0   6.0  20.0\n",
       " 15.0  20.0  43.0"
      ]
     },
     "execution_count": 21,
     "metadata": {},
     "output_type": "execute_result"
    }
   ],
   "source": [
    "H0 = hankel(sigma, B0, B0)"
   ]
  },
  {
   "cell_type": "code",
   "execution_count": 22,
   "metadata": {},
   "outputs": [
    {
     "data": {
      "text/plain": [
       "3"
      ]
     },
     "execution_count": 22,
     "metadata": {},
     "output_type": "execute_result"
    }
   ],
   "source": [
    "rank(H0)"
   ]
  },
  {
   "cell_type": "code",
   "execution_count": 23,
   "metadata": {},
   "outputs": [
    {
     "data": {
      "text/plain": [
       "3×3 Array{Float64,2}:\n",
       "  4.0    6.0  20.0\n",
       "  6.0  -26.0  30.0\n",
       " 20.0   30.0  72.0"
      ]
     },
     "execution_count": 23,
     "metadata": {},
     "output_type": "execute_result"
    }
   ],
   "source": [
    "H1 = hankel(sigma, B0, B0*x1)\n",
    "H2 = hankel(sigma, B0, B0*x2)\n",
    "H3 = hankel(sigma, B0, B0*x3);\n",
    "H  = [H1,H2,H3]\n",
    "H[1]"
   ]
  },
  {
   "cell_type": "code",
   "execution_count": 24,
   "metadata": {},
   "outputs": [
    {
     "data": {
      "text/plain": [
       "3×3 Array{Float64,2}:\n",
       "  1.11022e-16   9.14286  -0.571429\n",
       "  1.0           3.85714   1.57143 \n",
       " -1.11022e-16  -4.28571   1.14286 "
      ]
     },
     "execution_count": 24,
     "metadata": {},
     "output_type": "execute_result"
    }
   ],
   "source": [
    "M = [ H0^(-1)*H[i] for i in 1:3 ]\n",
    "M[1]"
   ]
  },
  {
   "cell_type": "code",
   "execution_count": 25,
   "metadata": {},
   "outputs": [
    {
     "ename": "UndefVarError",
     "evalue": "UndefVarError: eig not defined",
     "output_type": "error",
     "traceback": [
      "UndefVarError: eig not defined",
      "",
      "Stacktrace:",
      " [1] top-level scope at In[25]:1"
     ]
    }
   ],
   "source": [
    "v, E = eig(M[1])"
   ]
  },
  {
   "cell_type": "code",
   "execution_count": null,
   "metadata": {},
   "outputs": [],
   "source": []
  }
 ],
 "metadata": {
  "kernelspec": {
   "display_name": "Julia 1.0.0",
   "language": "julia",
   "name": "julia-1.0"
  },
  "language_info": {
   "file_extension": ".jl",
   "mimetype": "application/julia",
   "name": "julia",
   "version": "1.0.0"
  }
 },
 "nbformat": 4,
 "nbformat_minor": 2
}
